{
 "cells": [
  {
   "cell_type": "markdown",
   "metadata": {},
   "source": [
    "<!--Información del curso-->\n",
    "<img align=\"left\" style=\"padding-right:10px;\" src=\"figuras/banner_sdc.png\">\n"
   ]
  },
  {
   "cell_type": "markdown",
   "metadata": {},
   "source": [
    "<center><h1 style=\"font-size:2em;color:#2467C0\"> Algoritmo de dirección\n",
    " </h1></center>\n",
    "<br>\n",
    "<table>\n",
    "<col width=\"550\">\n",
    "<col width=\"450\">\n",
    "<tr>\n",
    "<td><img src=\"figuras/direccion.png\" align=\"middle\" style=\"width:550px;\"/></td>\n",
    "<td>\n",
    "    \n",
    "    \n",
    "**Objetivo:**\n",
    "    \n",
    "    \n",
    "En esta lección se mostrará el algoritmo de direccion.\n",
    "   \n",
    "<br>\n",
    "</td>\n",
    "</tr>\n",
    "</table>"
   ]
  },
  {
   "cell_type": "markdown",
   "metadata": {},
   "source": [
    "# Cargar librerias"
   ]
  },
  {
   "cell_type": "code",
   "execution_count": 1,
   "metadata": {},
   "outputs": [],
   "source": [
    "import matplotlib.pyplot as plt\n",
    "import numpy as np\n",
    "import cv2 as cv"
   ]
  },
  {
   "cell_type": "markdown",
   "metadata": {},
   "source": [
    "# Función de binarización "
   ]
  },
  {
   "cell_type": "code",
   "execution_count": 2,
   "metadata": {},
   "outputs": [],
   "source": [
    "#Definir la función de binarización\n",
    "def binarizacion(imagen):\n",
    "    img = cv.cvtColor(imagen, cv.COLOR_BGR2RGB)\n",
    "    img_gray = cv.cvtColor(img, cv.COLOR_BGR2GRAY)\n",
    "    img_gauss = cv.GaussianBlur(img_gray,(3,3),0)\n",
    "    thr, img_thr= cv.threshold(img_gauss ,160 ,255,cv.THRESH_BINARY)\n",
    "    alto=img.shape[0]\n",
    "    ancho=img.shape[1]\n",
    "    ratio=0.2\n",
    "    img_r = cv.resize(img_thr,(480,240), interpolation=cv.INTER_NEAREST)\n",
    "    return(img_r)"
   ]
  },
  {
   "cell_type": "markdown",
   "metadata": {},
   "source": [
    "# Función de área de interés"
   ]
  },
  {
   "cell_type": "code",
   "execution_count": 3,
   "metadata": {},
   "outputs": [],
   "source": [
    "#Poligono de área de interés\n",
    "pts_poligono = np.array([[135, 150], [350, 150], [380, 238], [115, 238]], np.int32)\n",
    "pts_poligono = pts_poligono.reshape((-1,1,2))"
   ]
  },
  {
   "cell_type": "code",
   "execution_count": 4,
   "metadata": {},
   "outputs": [],
   "source": [
    "#Funcion de área de interés\n",
    "def area_interes(imagen):\n",
    "    pts1 = np.float32([[135, 150], [350, 150], [115, 238], [380, 238]])\n",
    "    pts2 = np.float32([[0, 0], [480, 0], [0, 240], [480, 240]])\n",
    "    matrix = cv.getPerspectiveTransform(pts1, pts2)\n",
    "    img_warp = cv.warpPerspective(imagen, matrix, (480, 240))\n",
    "    return (img_warp)"
   ]
  },
  {
   "cell_type": "markdown",
   "metadata": {},
   "source": [
    "# Función de punto medio "
   ]
  },
  {
   "cell_type": "code",
   "execution_count": 5,
   "metadata": {},
   "outputs": [],
   "source": [
    "#Función para encontrar el punto medio\n",
    "def punto_medio(imagen):\n",
    "    img_cercana= imagen[220:, :]\n",
    "    suma_columnas = img_cercana.sum(axis=0)\n",
    "    x_pos = np.arange(len(suma_columnas))\n",
    "    mid_point=int( np.dot(x_pos,suma_columnas) / np.sum( suma_columnas ) )\n",
    "    return mid_point"
   ]
  },
  {
   "cell_type": "markdown",
   "metadata": {},
   "source": [
    "# Textos de apoyo"
   ]
  },
  {
   "cell_type": "code",
   "execution_count": 6,
   "metadata": {},
   "outputs": [
    {
     "data": {
      "image/png": "[encoded data removed]",
      "text/plain": [
       "<Figure size 720x504 with 1 Axes>"
      ]
     },
     "metadata": {
      "needs_background": "light"
     },
     "output_type": "display_data"
    }
   ],
   "source": [
    "#Aplicamos todas las funciones\n",
    "img = cv.imread('figuras/imagen_0.jpg')\n",
    "img_bin = binarizacion(img)\n",
    "img_interes=area_interes(img_bin)\n",
    "mid_point= punto_medio(img_interes)\n",
    "# textos\n",
    "text1 = str(0.50)\n",
    "text2 = str(0.50)\n",
    "text3 = 'direccion'\n",
    "# Tipo de fuente\n",
    "font = cv.FONT_HERSHEY_SIMPLEX\n",
    "# origen de cada texto\n",
    "org1 = (60, 185)\n",
    "org2 = (370, 185)\n",
    "org3 = (200, 100)\n",
    "# Tamaño\n",
    "fontScale = 0.7\n",
    "# Color de la fuente\n",
    "color = (150, 150, 150)\n",
    "# Grosor de la linea del texto\n",
    "thickness = 1\n",
    "# Usamos la función cv.putText() para agregar texto\n",
    "cv.putText(img_interes, text1, org1, font, fontScale,\n",
    "color, thickness, cv.LINE_AA, False)\n",
    "cv.putText(img_interes, text2, org2, font, fontScale,\n",
    "color, thickness, cv.LINE_AA, False)\n",
    "cv.putText(img_interes, text3, org3, font, fontScale,\n",
    "color, thickness, cv.LINE_AA, False)\n",
    "\n",
    "plt.figure(figsize=(10,7))\n",
    "cv.circle(img_interes, (mid_point,235), 5, (100, 100,100 ), -1) ;\n",
    "plt.imshow(img_interes,cmap='gray')\n",
    "plt.show()"
   ]
  },
  {
   "cell_type": "code",
   "execution_count": 7,
   "metadata": {},
   "outputs": [],
   "source": [
    "#Funcion suma normalizada izquierda\n",
    "def sum_izquierda(imagen, valor_punto_medio):\n",
    "    return np.round(np.sum( imagen[:, :valor_punto_medio].sum(axis=0) )/(255*240*480),2)"
   ]
  },
  {
   "cell_type": "code",
   "execution_count": 8,
   "metadata": {},
   "outputs": [],
   "source": [
    "#Funcion suma normalizada derecha\n",
    "def sum_derecha(imagen, valor_punto_medio):\n",
    "    return np.round(np.sum( imagen[:, valor_punto_medio:].sum(axis=0) )/(255*240*480),2)"
   ]
  },
  {
   "cell_type": "code",
   "execution_count": 10,
   "metadata": {},
   "outputs": [
    {
     "data": {
      "text/plain": [
       "0.38"
      ]
     },
     "execution_count": 10,
     "metadata": {},
     "output_type": "execute_result"
    }
   ],
   "source": [
    "sum_izquierda(img_interes, mid_point)"
   ]
  },
  {
   "cell_type": "code",
   "execution_count": 11,
   "metadata": {},
   "outputs": [
    {
     "data": {
      "text/plain": [
       "0.43"
      ]
     },
     "execution_count": 11,
     "metadata": {},
     "output_type": "execute_result"
    }
   ],
   "source": [
    "sum_derecha(img_interes, mid_point)"
   ]
  },
  {
   "cell_type": "markdown",
   "metadata": {},
   "source": [
    "# Mostrando la dirección de giro"
   ]
  },
  {
   "cell_type": "code",
   "execution_count": 1,
   "metadata": {},
   "outputs": [
    {
     "ename": "NameError",
     "evalue": "name 'cv' is not defined",
     "output_type": "error",
     "traceback": [
      "\u001b[0;31m---------------------------------------------------------------------------\u001b[0m",
      "\u001b[0;31mNameError\u001b[0m                                 Traceback (most recent call last)",
      "\u001b[0;32m<ipython-input-1-fb62aa59cbf5>\u001b[0m in \u001b[0;36m<module>\u001b[0;34m\u001b[0m\n\u001b[1;32m      1\u001b[0m \u001b[0;31m#Implementación de la dirección de giro en el video\u001b[0m\u001b[0;34m\u001b[0m\u001b[0;34m\u001b[0m\u001b[0;34m\u001b[0m\u001b[0m\n\u001b[1;32m      2\u001b[0m \u001b[0;32mimport\u001b[0m \u001b[0mtime\u001b[0m\u001b[0;34m\u001b[0m\u001b[0;34m\u001b[0m\u001b[0m\n\u001b[0;32m----> 3\u001b[0;31m \u001b[0mvideo\u001b[0m \u001b[0;34m=\u001b[0m \u001b[0mcv\u001b[0m\u001b[0;34m.\u001b[0m\u001b[0mVideoCapture\u001b[0m\u001b[0;34m(\u001b[0m\u001b[0;34m'videos/video_carretera_v2.mp4'\u001b[0m\u001b[0;34m)\u001b[0m\u001b[0;34m\u001b[0m\u001b[0;34m\u001b[0m\u001b[0m\n\u001b[0m\u001b[1;32m      4\u001b[0m \u001b[0;32mwhile\u001b[0m\u001b[0;34m(\u001b[0m\u001b[0mvideo\u001b[0m\u001b[0;34m.\u001b[0m\u001b[0misOpened\u001b[0m\u001b[0;34m(\u001b[0m\u001b[0;34m)\u001b[0m\u001b[0;34m)\u001b[0m\u001b[0;34m:\u001b[0m\u001b[0;34m\u001b[0m\u001b[0;34m\u001b[0m\u001b[0m\n\u001b[1;32m      5\u001b[0m     \u001b[0mret\u001b[0m\u001b[0;34m,\u001b[0m \u001b[0mframe\u001b[0m \u001b[0;34m=\u001b[0m \u001b[0mvideo\u001b[0m\u001b[0;34m.\u001b[0m\u001b[0mread\u001b[0m\u001b[0;34m(\u001b[0m\u001b[0;34m)\u001b[0m\u001b[0;34m\u001b[0m\u001b[0;34m\u001b[0m\u001b[0m\n",
      "\u001b[0;31mNameError\u001b[0m: name 'cv' is not defined"
     ]
    }
   ],
   "source": [
    "#Implementación de la dirección de giro en el video\n",
    "import time\n",
    "video = cv.VideoCapture('videos/video_carretera_v2.mp4')\n",
    "while(video.isOpened()):\n",
    "    ret, frame = video.read()\n",
    "    if ret:\n",
    "        \n",
    "        alto=img.shape[0]\n",
    "        ancho=img.shape[1]\n",
    "        ratio=0.2\n",
    "        frame = cv.resize(frame, (480,240), interpolation=cv.INTER_NEAREST)\n",
    "        \n",
    "        cv.imshow(\"video\", frame)\n",
    "        img_bin = binarizacion(frame)\n",
    "        cv.polylines(img_bin, [pts_poligono], True, (100,100,100))\n",
    "        cv.imshow(\"video binarizado\", img_bin)\n",
    "        img_interes = area_interes(img_bin)\n",
    "        mid_point = punto_medio(img_interes)\n",
    "        valor_sum_izquierda = sum_izquierda(img_interes,mid_point)\n",
    "        valor_sum_derecha = sum_derecha(img_interes,mid_point)\n",
    "        cv.putText(img_interes, str(valor_sum_izquierda), org1, font, fontScale,\n",
    "        color, thickness, cv.LINE_AA, False)\n",
    "        cv.putText(img_interes, str(valor_sum_derecha), org2, font, fontScale,\n",
    "        color, thickness, cv.LINE_AA, False)\n",
    "        delta = valor_sum_izquierda - valor_sum_derecha\n",
    "        \n",
    "        if delta > 0.07 :\n",
    "            movimiento = \"izquierda\"\n",
    "\n",
    "            \n",
    "        elif delta < -0.07 :\n",
    "            movimiento = \"derecha\"\n",
    "            \n",
    "        else:\n",
    "            movimiento = \"adelante\"\n",
    "        cv.putText(img_interes, movimiento, org3, font, fontScale,\n",
    "        color, thickness, cv.LINE_AA, False)\n",
    "        cv.circle(img_interes, (mid_point, 235), 5, (100,100,100), -1) ;\n",
    "        cv.imshow(\"video area interes\", img_interes)\n",
    "        time.sleep(0.02)\n",
    "        if cv.waitKey(1) & 0xFF == ord('q'):\n",
    "             break\n",
    "    else:\n",
    "          break\n",
    "            \n",
    "video.release()\n",
    "cv.destroyAllWindows()"
   ]
  },
  {
   "cell_type": "code",
   "execution_count": null,
   "metadata": {},
   "outputs": [],
   "source": []
  }
 ],
 "metadata": {
  "kernelspec": {
   "display_name": "Python 3",
   "language": "python",
   "name": "python3"
  },
  "language_info": {
   "codemirror_mode": {
    "name": "ipython",
    "version": 3
   },
   "file_extension": ".py",
   "mimetype": "text/x-python",
   "name": "python",
   "nbconvert_exporter": "python",
   "pygments_lexer": "ipython3",
   "version": "3.8.5"
  }
 },
 "nbformat": 4,
 "nbformat_minor": 4
}
