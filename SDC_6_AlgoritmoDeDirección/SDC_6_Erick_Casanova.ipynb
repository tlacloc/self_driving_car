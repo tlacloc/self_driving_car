{
 "cells": [
  {
   "cell_type": "markdown",
   "metadata": {},
   "source": [
    "<!--Información del curso-->\n",
    "<img align=\"left\" style=\"padding-right:10px;\" src=\"figuras/banner_sdc.png\">\n"
   ]
  },
  {
   "cell_type": "markdown",
   "metadata": {},
   "source": [
    "<center><h1 style=\"font-size:2em;color:#2467C0\"> Algoritmo de dirección\n",
    " </h1></center>\n",
    "<br>\n",
    "<table>\n",
    "<col width=\"550\">\n",
    "<col width=\"450\">\n",
    "<tr>\n",
    "<td><img src=\"figuras/direccion.png\" align=\"middle\" style=\"width:550px;\"/></td>\n",
    "<td>\n",
    "    \n",
    "    \n",
    "**Objetivo:**\n",
    "    \n",
    "    \n",
    "En esta lección se mostrará el algoritmo de direccion.\n",
    "   \n",
    "<br>\n",
    "</td>\n",
    "</tr>\n",
    "</table>"
   ]
  },
  {
   "cell_type": "markdown",
   "metadata": {},
   "source": [
    "# Cargar librerias"
   ]
  },
  {
   "cell_type": "code",
   "execution_count": 1,
   "metadata": {},
   "outputs": [],
   "source": [
    "import matplotlib.pyplot as plt\n",
    "import numpy as np\n",
    "import cv2 as cv"
   ]
  },
  {
   "cell_type": "markdown",
   "metadata": {},
   "source": [
    "# Función de binarización "
   ]
  },
  {
   "cell_type": "code",
   "execution_count": 2,
   "metadata": {},
   "outputs": [],
   "source": [
    "#Definir la función de binarización\n",
    "def binarizacion(imagen):\n",
    "    img = cv.cvtColor(imagen, cv.COLOR_BGR2RGB)\n",
    "    img_gray = cv.cvtColor(img, cv.COLOR_BGR2GRAY)\n",
    "    img_gauss = cv.GaussianBlur(img_gray,(3,3),0)\n",
    "    thr, img_thr= cv.threshold(img_gauss ,160 ,255,cv.THRESH_BINARY)\n",
    "    alto=img.shape[0]\n",
    "    ancho=img.shape[1]\n",
    "    ratio=0.2\n",
    "    img_r = cv.resize(img_thr,(480,240), interpolation=cv.INTER_NEAREST)\n",
    "    return(img_r)"
   ]
  },
  {
   "cell_type": "markdown",
   "metadata": {},
   "source": [
    "# Función de área de interés"
   ]
  },
  {
   "cell_type": "code",
   "execution_count": 3,
   "metadata": {},
   "outputs": [],
   "source": [
    "#Poligono de área de interés\n",
    "ld = (35, 150)\n",
    "lu = (30, 238)\n",
    "ru = (450, 238)\n",
    "rd = (440, 150)\n",
    "\n",
    "pts_poligono = np.array([ld, rd, ru, lu], np.int32)\n",
    "pts_poligono = pts_poligono.reshape((-1,1,2))"
   ]
  },
  {
   "cell_type": "code",
   "execution_count": 4,
   "metadata": {},
   "outputs": [],
   "source": [
    "#Funcion de área de interés\n",
    "def area_interes(imagen):\n",
    "    \n",
    "    ld = (35, 150)\n",
    "    lu = (30, 238)\n",
    "    ru = (450, 238)\n",
    "    rd = (440, 150)\n",
    "\n",
    "    pts1 = np.float32([ld, rd, lu, ru])\n",
    "    pts2 = np.float32([[0, 0], [480, 0], [0, 240], [480, 240]])\n",
    "    matrix = cv.getPerspectiveTransform(pts1, pts2)\n",
    "    img_warp = cv.warpPerspective(imagen, matrix, (480, 240))\n",
    "    return (img_warp)"
   ]
  },
  {
   "cell_type": "markdown",
   "metadata": {},
   "source": [
    "# Función de punto medio "
   ]
  },
  {
   "cell_type": "code",
   "execution_count": 5,
   "metadata": {},
   "outputs": [],
   "source": [
    "#Función para encontrar el punto medio\n",
    "def punto_medio(imagen):\n",
    "    img_cercana = imagen[220:, :]\n",
    "    suma_columnas = np.uint64(np.where(img_cercana.sum(axis=0) > 100, 0, 1020))\n",
    "    x_pos = np.arange(len(suma_columnas))\n",
    "    mid_point = int( np.dot(x_pos,suma_columnas) / np.sum( suma_columnas ) )\n",
    "    return mid_point"
   ]
  },
  {
   "cell_type": "markdown",
   "metadata": {},
   "source": [
    "# Textos de apoyo"
   ]
  },
  {
   "cell_type": "code",
   "execution_count": 6,
   "metadata": {},
   "outputs": [
    {
     "data": {
      "image/png": "[encoded data removed]",
      "text/plain": [
       "<Figure size 720x504 with 1 Axes>"
      ]
     },
     "metadata": {
      "needs_background": "light"
     },
     "output_type": "display_data"
    }
   ],
   "source": [
    "#Aplicamos todas las funciones\n",
    "img = cv.imread('figuras/imagen_Erick_Casanova.jpg')\n",
    "img_bin = binarizacion(img)\n",
    "img_interes=area_interes(img_bin)\n",
    "mid_point= punto_medio(img_interes)\n",
    "\n",
    "# textos\n",
    "text1 = str(0.50)\n",
    "text2 = str(0.50)\n",
    "text3 = 'direccion'\n",
    "\n",
    "# Tipo de fuente\n",
    "font = cv.FONT_HERSHEY_SIMPLEX\n",
    "\n",
    "# origen de cada texto\n",
    "org1 = (60, 185)\n",
    "org2 = (370, 185)\n",
    "org3 = (200, 100)\n",
    "\n",
    "# Tamaño\n",
    "fontScale = 0.7\n",
    "\n",
    "# Color de la fuente\n",
    "color = (150, 150, 150)\n",
    "\n",
    "# Grosor de la linea del texto\n",
    "thickness = 1\n",
    "\n",
    "# Usamos la función cv.putText() para agregar texto\n",
    "cv.putText(img_interes, text1, org1, font, fontScale,\n",
    "color, thickness, cv.LINE_AA, False)\n",
    "cv.putText(img_interes, text2, org2, font, fontScale,\n",
    "color, thickness, cv.LINE_AA, False)\n",
    "cv.putText(img_interes, text3, org3, font, fontScale,\n",
    "color, thickness, cv.LINE_AA, False)\n",
    "\n",
    "plt.figure(figsize=(10,7))\n",
    "cv.circle(img_interes, (mid_point,235), 5, (100, 100,100 ), -1) ;\n",
    "plt.imshow(img_interes,cmap='gray')\n",
    "plt.show()"
   ]
  },
  {
   "cell_type": "code",
   "execution_count": 7,
   "metadata": {},
   "outputs": [],
   "source": [
    "#Funcion suma normalizada izquierda\n",
    "def sum_izquierda(imagen, valor_punto_medio):\n",
    "    imagen_fix = np.where(imagen == 0, 255, 0)\n",
    "    return np.round(np.sum( imagen_fix[:, :valor_punto_medio].sum(axis=0) )/(255*240*480),2)"
   ]
  },
  {
   "cell_type": "code",
   "execution_count": 8,
   "metadata": {},
   "outputs": [],
   "source": [
    "#Funcion suma normalizada derecha\n",
    "def sum_derecha(imagen, valor_punto_medio):\n",
    "    imagen_fix = np.where(imagen == 0, 255, 0)\n",
    "    return np.round(np.sum( imagen_fix[:, valor_punto_medio:].sum(axis=0) )/(255*240*480),2)"
   ]
  },
  {
   "cell_type": "code",
   "execution_count": 9,
   "metadata": {},
   "outputs": [
    {
     "data": {
      "text/plain": [
       "0.39"
      ]
     },
     "execution_count": 9,
     "metadata": {},
     "output_type": "execute_result"
    }
   ],
   "source": [
    "sum_derecha(img_interes, mid_point)"
   ]
  },
  {
   "cell_type": "code",
   "execution_count": 10,
   "metadata": {},
   "outputs": [
    {
     "data": {
      "text/plain": [
       "0.39"
      ]
     },
     "execution_count": 10,
     "metadata": {},
     "output_type": "execute_result"
    }
   ],
   "source": [
    "sum_izquierda(img_interes, mid_point)"
   ]
  },
  {
   "cell_type": "code",
   "execution_count": 11,
   "metadata": {},
   "outputs": [
    {
     "name": "stdout",
     "output_type": "stream",
     "text": [
      "[[0 0 0 ... 0 0 0]\n",
      " [0 0 0 ... 0 0 0]\n",
      " [0 0 0 ... 0 0 0]\n",
      " ...\n",
      " [0 0 0 ... 0 0 0]\n",
      " [0 0 0 ... 0 0 0]\n",
      " [0 0 0 ... 0 0 0]]\n",
      "[[  0   0   0 ... 255 255 255]\n",
      " [  0   0   0 ... 255 255 255]\n",
      " [  0   0   0 ... 255 255 255]\n",
      " ...\n",
      " [  0   0   0 ...   0   0   0]\n",
      " [  0   0   0 ...   0   0   0]\n",
      " [  0   0   0 ...   0   0   0]]\n",
      "[    0     0     0     0     0     0     0     0     0     0     0     0\n",
      "     0     0     0     0     0     0     0     0     0     0     0     0\n",
      "     0     0     0     0     0     0     0     0     0     0     0     0\n",
      "     0     0     0     0 14025 57120 61200 61200 61200 61200 61200 61200\n",
      " 61200 61200 61200 61200 61200 61200 61200 61200 61200 61200 61200 61200\n",
      " 61200 59670 58395 57630 58650 59670 59670 59670 59670 59670 58650 57630\n",
      " 58395 59670 61200 60690 60180 60180 60180 60180 60945 61200 60435 58650\n",
      " 57885 58140 58905 58905 58905 58905 58905 58395 58140 59415 59925 61200\n",
      " 61200 61200 61200 61200 61200 61200 61200 61200 61200 61200 61200 61200\n",
      " 61200 61200 61200 61200 61200 61200 61200 61200 61200 61200 61200 61200\n",
      " 61200 61200 61200 61200 61200 61200 61200 61200 61200 61200 61200 61200\n",
      " 61200 61200 61200 61200 61200 61200 61200 61200 61200 61200 61200 61200\n",
      " 61200 61200 61200 61200 61200 61200 61200 61200 61200 61200 61200 61200\n",
      " 61200 61200 61200 61200 61200 61200 61200 61200 61200 61200 61200 61200\n",
      " 61200 61200 61200 61200 61200 61200 61200 61200 61200 61200 61200 61200\n",
      " 61200 61200 61200 61200 61200 61200 61200 61200 61200 61200 61200 61200\n",
      " 61200 61200 61200 61200 61200 61200 61200 61200 61200 59925 59415 58905\n",
      " 59415 59415 59670 59670 59670 57120 56865 56865 60690 61200 60435 57375\n",
      " 57375 57375 60435 61200 61200 58395 58140 58395 60435 60435 60435 60180\n",
      " 58650 57630 57120 56610]\n",
      "0.39\n",
      "-------------\n",
      "[[255 255 255 ...   0   0   0]\n",
      " [255 255 255 ...   0   0   0]\n",
      " [255 255 255 ...   0   0   0]\n",
      " ...\n",
      " [255 255 255 ... 100 100 100]\n",
      " [255 255 255 ... 100 100 100]\n",
      " [255 255 255 ... 100 100 100]]\n",
      "[61200 61200 61200 61200 61200 61200 61200 61200 61200 61200 61200 61200\n",
      " 61200 61200 61200 61200 61200 61200 61200 61200 61200 61200 61200 61200\n",
      " 61200 61200 61200 61200 61200 61200 61200 61200 61200 61200 61200 61200\n",
      " 61200 61200 61200 56487 21378   462     0     0     0     0     0     0\n",
      "     0     0     0     0     0     0     0     0     0     0     0     0\n",
      "     0    92  1064  1125   556   426   394   388   393   427   557  1121\n",
      "  1064    92     0     6   121   282   280   121     4     0    23   406\n",
      "  1183   843   619   593   605   599   644   585   750   671    68     0\n",
      "     0     0     0     0     0     0     0     0     0     0     0     0\n",
      "     0     0     0     0     0     0     0     0     0     0     0     0\n",
      "     0     0     0     0     0     0     0     0     0     0     0     0\n",
      "     0     0     0     0     0     0     0     0     0     0     0     0\n",
      "     0     0     0     0     0     0     0     0     0     0     0     0\n",
      "     0     0     0     0     0     0     0     0     0     0     0     0\n",
      "     0     0     0     0     0     0     0     0     0     0     0     0\n",
      "     0     0     0     0     0     0     0     0     0     0     0     0\n",
      "     0     0     0     0     0     0     0     0     0    72   675   686\n",
      "   413   429   389   398   415   452  1689  1575    18     0    30   398\n",
      "  1660   680    52     0     0   781  1323   342   199   205   201   247\n",
      "   737   972  1595  1721]\n",
      "0.09\n"
     ]
    }
   ],
   "source": [
    "#Testeo para invertir la matriz\n",
    "\n",
    "img_interes_fix = np.where(img_interes == 0, 255, 0)\n",
    "print(np.where(img_interes == 0, 255, 0))\n",
    "print(img_interes_fix[:, :mid_point])\n",
    "print(img_interes_fix[:, :mid_point].sum(axis=0))\n",
    "print(np.round(np.sum( img_interes_fix[:, :mid_point].sum(axis=0) )/(255*240*480),2))\n",
    "print('-------------')\n",
    "print(img_interes[:, :mid_point])\n",
    "print(img_interes[:, :mid_point].sum(axis=0))\n",
    "print(np.round(np.sum( img_interes[:, :mid_point].sum(axis=0) )/(255*240*480),2))\n"
   ]
  },
  {
   "cell_type": "markdown",
   "metadata": {},
   "source": [
    "# Mostrando la dirección de giro"
   ]
  },
  {
   "cell_type": "code",
   "execution_count": 13,
   "metadata": {},
   "outputs": [],
   "source": [
    "#Implementación de la dirección de giro en el video\n",
    "import time\n",
    "video = cv.VideoCapture('videos/video_Erick_Casanova.mp4')\n",
    "while(video.isOpened()):\n",
    "    ret, frame = video.read()\n",
    "    if ret:\n",
    "        \n",
    "        alto=img.shape[0]\n",
    "        ancho=img.shape[1]\n",
    "        ratio=0.2\n",
    "        frame = cv.resize(frame, (480,240), interpolation=cv.INTER_NEAREST)\n",
    "        \n",
    "        cv.imshow(\"video\", frame)\n",
    "        img_bin = binarizacion(frame)\n",
    "        cv.polylines(img_bin, [pts_poligono], True, (100,100,100))\n",
    "        cv.imshow(\"video binarizado\", img_bin)\n",
    "        img_interes = area_interes(img_bin)\n",
    "        mid_point = punto_medio(img_interes)\n",
    "        valor_sum_izquierda = sum_izquierda(img_interes,mid_point)\n",
    "        valor_sum_derecha = sum_derecha(img_interes,mid_point)\n",
    "        cv.putText(img_interes, str(valor_sum_izquierda), org1, font, fontScale,\n",
    "        color, thickness, cv.LINE_AA, False)\n",
    "        cv.putText(img_interes, str(valor_sum_derecha), org2, font, fontScale,\n",
    "        color, thickness, cv.LINE_AA, False)\n",
    "        delta = valor_sum_izquierda - valor_sum_derecha\n",
    "        #print(delta)\n",
    "        \n",
    "        if delta > 0.07 :\n",
    "            movimiento = \"izquierda\"\n",
    "\n",
    "            \n",
    "        elif delta < -0.07 :\n",
    "            movimiento = \"derecha\"\n",
    "            \n",
    "        else:\n",
    "            movimiento = \"adelante\"\n",
    "            \n",
    "        cv.putText(img_interes, movimiento, org3, font, fontScale,\n",
    "        color, thickness, cv.LINE_AA, False)\n",
    "        cv.circle(img_interes, (mid_point, 235), 5, (100,100,100), -1) ;\n",
    "        cv.imshow(\"video area interes\", img_interes)\n",
    "        time.sleep(0.02)\n",
    "        if cv.waitKey(1) & 0xFF == ord('q'):\n",
    "             break\n",
    "    else:\n",
    "          break\n",
    "            \n",
    "video.release()\n",
    "cv.destroyAllWindows()"
   ]
  },
  {
   "cell_type": "code",
   "execution_count": null,
   "metadata": {},
   "outputs": [],
   "source": []
  },
  {
   "cell_type": "code",
   "execution_count": null,
   "metadata": {},
   "outputs": [],
   "source": []
  }
 ],
 "metadata": {
  "kernelspec": {
   "display_name": "Python 3",
   "language": "python",
   "name": "python3"
  },
  "language_info": {
   "codemirror_mode": {
    "name": "ipython",
    "version": 3
   },
   "file_extension": ".py",
   "mimetype": "text/x-python",
   "name": "python",
   "nbconvert_exporter": "python",
   "pygments_lexer": "ipython3",
   "version": "3.8.5"
  }
 },
 "nbformat": 4,
 "nbformat_minor": 4
}
