{
 "cells": [
  {
   "cell_type": "markdown",
   "metadata": {},
   "source": [
    "# Ejemplo de notebook Jupyter"
   ]
  },
  {
   "cell_type": "markdown",
   "metadata": {},
   "source": [
    "## Cargando librerías"
   ]
  },
  {
   "cell_type": "code",
   "execution_count": 5,
   "metadata": {},
   "outputs": [],
   "source": [
    "#!/usr/local/bin/python\n",
    "# coding: latin-1\n",
    "import os, sys\n",
    "\n",
    "# Cargar las biblioteca Pandas con el alias 'pd’\n",
    "# Cargar las biblioteca Matplotlib con el alias ‘plt’\n",
    "import matplotlib.pyplot as plt\n",
    "import pandas as pd"
   ]
  },
  {
   "cell_type": "markdown",
   "metadata": {},
   "source": [
    "En este notebook se utilizará la gráfica de la cronología de los precios de los teléfonos móviles a lo largo de los años \n",
    "*Fuente:* https://ourworldindata.org/grapher/global-plastics-production\n",
    "![Imagen de la producción global de pásticos](figuras/global-plastics-production.png) \n"
   ]
  },
  {
   "cell_type": "code",
   "execution_count": 6,
   "metadata": {},
   "outputs": [],
   "source": [
    "# Leer datos del archivo datos.csv\n",
    "data = pd.read_csv (\"datos/global-plastics-production.csv\")"
   ]
  },
  {
   "cell_type": "code",
   "execution_count": 7,
   "metadata": {},
   "outputs": [
    {
     "name": "stdout",
     "output_type": "stream",
     "text": [
      "   Year  Global plastics production (million tonnes)\n",
      "0  1950                                            2\n",
      "1  1951                                            2\n",
      "2  1952                                            2\n",
      "3  1953                                            3\n",
      "4  1954                                            3\n"
     ]
    }
   ],
   "source": [
    "# Vista previa de las primeras 5 lineas de los datos cargados\n",
    "print(data.head ())"
   ]
  },
  {
   "cell_type": "markdown",
   "metadata": {},
   "source": [
    "## 2. Graficar los datos"
   ]
  },
  {
   "cell_type": "code",
   "execution_count": 8,
   "metadata": {},
   "outputs": [
    {
     "data": {
      "image/png": "[encoded data removed]",
      "text/plain": [
       "<Figure size 432x288 with 1 Axes>"
      ]
     },
     "metadata": {
      "needs_background": "light"
     },
     "output_type": "display_data"
    }
   ],
   "source": [
    "#Graficamos las variables\n",
    "data.plot(x ='Year', y = 'Global plastics production (million tonnes)', kind = 'line')\n",
    "plt.show()"
   ]
  },
  {
   "cell_type": "code",
   "execution_count": null,
   "metadata": {},
   "outputs": [],
   "source": []
  }
 ],
 "metadata": {
  "kernelspec": {
   "display_name": "Python 3",
   "language": "python",
   "name": "python3"
  },
  "language_info": {
   "codemirror_mode": {
    "name": "ipython",
    "version": 3
   },
   "file_extension": ".py",
   "mimetype": "text/x-python",
   "name": "python",
   "nbconvert_exporter": "python",
   "pygments_lexer": "ipython3",
   "version": "3.8.5"
  }
 },
 "nbformat": 4,
 "nbformat_minor": 4
}
